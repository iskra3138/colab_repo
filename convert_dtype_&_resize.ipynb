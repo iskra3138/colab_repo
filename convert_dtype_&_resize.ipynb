{
  "nbformat": 4,
  "nbformat_minor": 0,
  "metadata": {
    "colab": {
      "name": "convert_dtype & resize",
      "provenance": [],
      "collapsed_sections": [],
      "include_colab_link": true
    },
    "kernelspec": {
      "name": "python3",
      "display_name": "Python 3"
    },
    "accelerator": "GPU"
  },
  "cells": [
    {
      "cell_type": "markdown",
      "metadata": {
        "id": "view-in-github",
        "colab_type": "text"
      },
      "source": [
        "<a href=\"https://colab.research.google.com/github/iskra3138/colab_repo/blob/master/convert_dtype_%26_resize.ipynb\" target=\"_parent\"><img src=\"https://colab.research.google.com/assets/colab-badge.svg\" alt=\"Open In Colab\"/></a>"
      ]
    },
    {
      "cell_type": "code",
      "metadata": {
        "id": "9i5yk0d_YJ2B",
        "colab_type": "code",
        "outputId": "5fa96c90-fdae-4d65-805e-fcab9ef63511",
        "colab": {
          "base_uri": "https://localhost:8080/",
          "height": 34
        }
      },
      "source": [
        "%tensorflow_version 2.x"
      ],
      "execution_count": 1,
      "outputs": [
        {
          "output_type": "stream",
          "text": [
            "TensorFlow 2.x selected.\n"
          ],
          "name": "stdout"
        }
      ]
    },
    {
      "cell_type": "code",
      "metadata": {
        "id": "Qwxj5QXhZOmK",
        "colab_type": "code",
        "colab": {}
      },
      "source": [
        "import tensorflow as tf"
      ],
      "execution_count": 0,
      "outputs": []
    },
    {
      "cell_type": "code",
      "metadata": {
        "id": "pQhAPdSlipXv",
        "colab_type": "code",
        "outputId": "54dbaf1a-88a9-4c00-931f-772ad11ec763",
        "colab": {
          "base_uri": "https://localhost:8080/",
          "height": 202
        }
      },
      "source": [
        "!wget https://www.c-ville.com/wp-content/uploads/2019/09/Cats-660x335.jpg"
      ],
      "execution_count": 3,
      "outputs": [
        {
          "output_type": "stream",
          "text": [
            "--2020-02-12 07:35:14--  https://www.c-ville.com/wp-content/uploads/2019/09/Cats-660x335.jpg\n",
            "Resolving www.c-ville.com (www.c-ville.com)... 104.196.149.76\n",
            "Connecting to www.c-ville.com (www.c-ville.com)|104.196.149.76|:443... connected.\n",
            "HTTP request sent, awaiting response... 200 OK\n",
            "Length: 38807 (38K) [image/jpeg]\n",
            "Saving to: ‘Cats-660x335.jpg.1’\n",
            "\n",
            "\rCats-660x335.jpg.1    0%[                    ]       0  --.-KB/s               \rCats-660x335.jpg.1  100%[===================>]  37.90K  --.-KB/s    in 0.01s   \n",
            "\n",
            "2020-02-12 07:35:14 (3.01 MB/s) - ‘Cats-660x335.jpg.1’ saved [38807/38807]\n",
            "\n"
          ],
          "name": "stdout"
        }
      ]
    },
    {
      "cell_type": "code",
      "metadata": {
        "id": "vjCBuSWvaDTr",
        "colab_type": "code",
        "colab": {
          "base_uri": "https://localhost:8080/",
          "height": 840
        },
        "outputId": "ba4fbbf6-591b-427a-e36f-5cabb01fe9a9"
      },
      "source": [
        "## resize -> convert_image_dtype 순일 때는 [0,1) 사이로 안 바뀜. 즉 convert_image_dtype이 안 먹음\n",
        "image = tf.io.read_file('Cats-660x335.jpg')\n",
        "image = tf.image.decode_jpeg(image)\n",
        "image = tf.image.resize(image, [224,224])\n",
        "image = tf.image.convert_image_dtype(image, tf.float32)\n",
        "print (image.numpy())"
      ],
      "execution_count": 4,
      "outputs": [
        {
          "output_type": "stream",
          "text": [
            "[[[254. 254. 254.]\n",
            "  [254. 254. 254.]\n",
            "  [254. 254. 254.]\n",
            "  ...\n",
            "  [254. 254. 254.]\n",
            "  [254. 254. 254.]\n",
            "  [254. 254. 254.]]\n",
            "\n",
            " [[254. 254. 254.]\n",
            "  [254. 254. 254.]\n",
            "  [254. 254. 254.]\n",
            "  ...\n",
            "  [254. 254. 254.]\n",
            "  [254. 254. 254.]\n",
            "  [254. 254. 254.]]\n",
            "\n",
            " [[254. 254. 254.]\n",
            "  [254. 254. 254.]\n",
            "  [254. 254. 254.]\n",
            "  ...\n",
            "  [254. 254. 254.]\n",
            "  [254. 254. 254.]\n",
            "  [254. 254. 254.]]\n",
            "\n",
            " ...\n",
            "\n",
            " [[254. 254. 254.]\n",
            "  [254. 254. 254.]\n",
            "  [254. 254. 254.]\n",
            "  ...\n",
            "  [254. 254. 254.]\n",
            "  [254. 254. 254.]\n",
            "  [254. 254. 254.]]\n",
            "\n",
            " [[254. 254. 254.]\n",
            "  [254. 254. 254.]\n",
            "  [254. 254. 254.]\n",
            "  ...\n",
            "  [254. 254. 254.]\n",
            "  [254. 254. 254.]\n",
            "  [254. 254. 254.]]\n",
            "\n",
            " [[254. 254. 254.]\n",
            "  [254. 254. 254.]\n",
            "  [254. 254. 254.]\n",
            "  ...\n",
            "  [254. 254. 254.]\n",
            "  [254. 254. 254.]\n",
            "  [254. 254. 254.]]]\n"
          ],
          "name": "stdout"
        }
      ]
    },
    {
      "cell_type": "code",
      "metadata": {
        "id": "C2i_BrMHlFUL",
        "colab_type": "code",
        "colab": {
          "base_uri": "https://localhost:8080/",
          "height": 840
        },
        "outputId": "1ea24e50-0deb-422e-b802-9480b6ba9f7c"
      },
      "source": [
        "## convert_image_dtype -> resize 순일 때는 [0,1) 사이로 바뀜. 즉 convert_image_dtype이 먹었음\n",
        "image = tf.io.read_file('Cats-660x335.jpg')\n",
        "image = tf.image.decode_jpeg(image)\n",
        "image = tf.image.convert_image_dtype(image, tf.float32)\n",
        "image = tf.image.resize(image, [224,224])\n",
        "\n",
        "print (image.numpy())"
      ],
      "execution_count": 5,
      "outputs": [
        {
          "output_type": "stream",
          "text": [
            "[[[0.9960785 0.9960785 0.9960785]\n",
            "  [0.9960785 0.9960785 0.9960785]\n",
            "  [0.9960785 0.9960785 0.9960785]\n",
            "  ...\n",
            "  [0.9960785 0.9960785 0.9960785]\n",
            "  [0.9960785 0.9960785 0.9960785]\n",
            "  [0.9960785 0.9960785 0.9960785]]\n",
            "\n",
            " [[0.9960785 0.9960785 0.9960785]\n",
            "  [0.9960785 0.9960785 0.9960785]\n",
            "  [0.9960785 0.9960785 0.9960785]\n",
            "  ...\n",
            "  [0.9960785 0.9960785 0.9960785]\n",
            "  [0.9960785 0.9960785 0.9960785]\n",
            "  [0.9960785 0.9960785 0.9960785]]\n",
            "\n",
            " [[0.9960785 0.9960785 0.9960785]\n",
            "  [0.9960785 0.9960785 0.9960785]\n",
            "  [0.9960785 0.9960785 0.9960785]\n",
            "  ...\n",
            "  [0.9960785 0.9960785 0.9960785]\n",
            "  [0.9960785 0.9960785 0.9960785]\n",
            "  [0.9960785 0.9960785 0.9960785]]\n",
            "\n",
            " ...\n",
            "\n",
            " [[0.9960785 0.9960785 0.9960785]\n",
            "  [0.9960785 0.9960785 0.9960785]\n",
            "  [0.9960785 0.9960785 0.9960785]\n",
            "  ...\n",
            "  [0.9960785 0.9960785 0.9960785]\n",
            "  [0.9960785 0.9960785 0.9960785]\n",
            "  [0.9960785 0.9960785 0.9960785]]\n",
            "\n",
            " [[0.9960785 0.9960785 0.9960785]\n",
            "  [0.9960785 0.9960785 0.9960785]\n",
            "  [0.9960785 0.9960785 0.9960785]\n",
            "  ...\n",
            "  [0.9960785 0.9960785 0.9960785]\n",
            "  [0.9960785 0.9960785 0.9960785]\n",
            "  [0.9960785 0.9960785 0.9960785]]\n",
            "\n",
            " [[0.9960785 0.9960785 0.9960785]\n",
            "  [0.9960785 0.9960785 0.9960785]\n",
            "  [0.9960785 0.9960785 0.9960785]\n",
            "  ...\n",
            "  [0.9960785 0.9960785 0.9960785]\n",
            "  [0.9960785 0.9960785 0.9960785]\n",
            "  [0.9960785 0.9960785 0.9960785]]]\n"
          ],
          "name": "stdout"
        }
      ]
    },
    {
      "cell_type": "code",
      "metadata": {
        "id": "K_RKDKxYUsfI",
        "colab_type": "code",
        "colab": {}
      },
      "source": [
        ""
      ],
      "execution_count": 0,
      "outputs": []
    }
  ]
}