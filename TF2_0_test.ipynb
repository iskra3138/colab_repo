{
  "nbformat": 4,
  "nbformat_minor": 0,
  "metadata": {
    "colab": {
      "name": "TF2.0_test.ipynb",
      "provenance": [],
      "collapsed_sections": [],
      "include_colab_link": true
    },
    "kernelspec": {
      "name": "python3",
      "display_name": "Python 3"
    },
    "accelerator": "GPU"
  },
  "cells": [
    {
      "cell_type": "markdown",
      "metadata": {
        "id": "view-in-github",
        "colab_type": "text"
      },
      "source": [
        "<a href=\"https://colab.research.google.com/github/iskra3138/colab_repo/blob/master/TF2_0_test.ipynb\" target=\"_parent\"><img src=\"https://colab.research.google.com/assets/colab-badge.svg\" alt=\"Open In Colab\"/></a>"
      ]
    },
    {
      "cell_type": "markdown",
      "metadata": {
        "id": "lkLVpgIlGiUI",
        "colab_type": "text"
      },
      "source": [
        "현재 colab은 default가 tf1.x. / 2.x로 변경하려면 아래 내용부터 실행 \n",
        "- pip install로 설치 시 성능상에 문제가 발생할 수 있다고 함"
      ]
    },
    {
      "cell_type": "code",
      "metadata": {
        "id": "0XTA1PDmF9_I",
        "colab_type": "code",
        "outputId": "a75b9bee-275b-4b1b-86cf-dbd1b4c4cd0d",
        "colab": {
          "base_uri": "https://localhost:8080/",
          "height": 34
        }
      },
      "source": [
        "%tensorflow_version 2.x"
      ],
      "execution_count": 0,
      "outputs": [
        {
          "output_type": "stream",
          "text": [
            "TensorFlow 2.x selected.\n"
          ],
          "name": "stdout"
        }
      ]
    },
    {
      "cell_type": "code",
      "metadata": {
        "id": "k-9PZRsnGDF-",
        "colab_type": "code",
        "outputId": "f0a11e24-5556-4d46-c719-310f0969d0f3",
        "colab": {
          "base_uri": "https://localhost:8080/",
          "height": 34
        }
      },
      "source": [
        "import tensorflow\n",
        "print(tensorflow.__version__)"
      ],
      "execution_count": 0,
      "outputs": [
        {
          "output_type": "stream",
          "text": [
            "2.1.0-rc1\n"
          ],
          "name": "stdout"
        }
      ]
    },
    {
      "cell_type": "markdown",
      "metadata": {
        "id": "0toXcG3KGc8-",
        "colab_type": "text"
      },
      "source": [
        "1.x로 되돌아가기 위해서는 runtime을 다시 시작하고 아래 실행"
      ]
    },
    {
      "cell_type": "code",
      "metadata": {
        "id": "6-MTT0vKGPys",
        "colab_type": "code",
        "colab": {}
      },
      "source": [
        "# Restart runtime using 'Runtime' -> 'Restart runtime...'\n",
        "%tensorflow_version 1.x\n",
        "import tensorflow as tf\n",
        "print(tf.__version__)"
      ],
      "execution_count": 0,
      "outputs": []
    }
  ]
}