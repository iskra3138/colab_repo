{
  "nbformat": 4,
  "nbformat_minor": 0,
  "metadata": {
    "colab": {
      "name": "TF padding option.ipynb",
      "provenance": [],
      "collapsed_sections": [],
      "include_colab_link": true
    },
    "kernelspec": {
      "name": "python3",
      "display_name": "Python 3"
    },
    "accelerator": "GPU"
  },
  "cells": [
    {
      "cell_type": "markdown",
      "metadata": {
        "id": "view-in-github",
        "colab_type": "text"
      },
      "source": [
        "<a href=\"https://colab.research.google.com/github/iskra3138/colab_repo/blob/master/TF_padding_option.ipynb\" target=\"_parent\"><img src=\"https://colab.research.google.com/assets/colab-badge.svg\" alt=\"Open In Colab\"/></a>"
      ]
    },
    {
      "cell_type": "code",
      "metadata": {
        "id": "WM4u4PmlfAc8",
        "colab_type": "code",
        "colab": {}
      },
      "source": [
        "# TF padding opition 계산 식\n",
        "\n",
        "## SAME: out_size = ceil(float(in_size) / float(stride)\n",
        "## VALID: out_size = ceil(float(in_size - filter_size + 1) / float(stride))"
      ],
      "execution_count": 0,
      "outputs": []
    },
    {
      "cell_type": "code",
      "metadata": {
        "id": "AVJ4LQSfXiNo",
        "colab_type": "code",
        "outputId": "afaaa9d1-b5de-4c73-a3f2-fea1f001edc5",
        "colab": {
          "base_uri": "https://localhost:8080/",
          "height": 63
        }
      },
      "source": [
        "import tensorflow as tf\n",
        "import math"
      ],
      "execution_count": 2,
      "outputs": [
        {
          "output_type": "display_data",
          "data": {
            "text/html": [
              "<p style=\"color: red;\">\n",
              "The default version of TensorFlow in Colab will soon switch to TensorFlow 2.x.<br>\n",
              "We recommend you <a href=\"https://www.tensorflow.org/guide/migrate\" target=\"_blank\">upgrade</a> now \n",
              "or ensure your notebook will continue to use TensorFlow 1.x via the <code>%tensorflow_version 1.x</code> magic:\n",
              "<a href=\"https://colab.research.google.com/notebooks/tensorflow_version.ipynb\" target=\"_blank\">more info</a>.</p>\n"
            ],
            "text/plain": [
              "<IPython.core.display.HTML object>"
            ]
          },
          "metadata": {
            "tags": []
          }
        }
      ]
    },
    {
      "cell_type": "markdown",
      "metadata": {
        "id": "VWcjtX__hnGy",
        "colab_type": "text"
      },
      "source": [
        "# stride가 1일 때"
      ]
    },
    {
      "cell_type": "code",
      "metadata": {
        "id": "A3uIiZ0phrB3",
        "colab_type": "code",
        "colab": {
          "base_uri": "https://localhost:8080/",
          "height": 85
        },
        "outputId": "bc79e6a6-e7c7-4d95-c12b-79e76864adf6"
      },
      "source": [
        "# input = tf.constant([[1, 2, 3, 4]])\n",
        "in_size = 4\n",
        "stride = 1\n",
        "\n",
        "# VALID: out_size  = ceil(float(in_size - filter_size + 1) / float(stride))\n",
        "valid_out_k2_s1 = math.ceil(float(in_size - 2 + 1 ) / float(stride))\n",
        "valid_out_k3_s1 = math.ceil(float(in_size - 3 + 1 ) / float(stride))\n",
        "print ('VALID, in: {}, filter: 2, stride: {} ---> out_size: {}'.format(in_size, stride, valid_out_k2_s1))\n",
        "print ('VALID, in: {}, filter: 3, stride: {} ---> out_size: {}'.format(in_size, stride, valid_out_k3_s1))\n",
        "print ()\n",
        "# SAME: out_size = ceil(float(in_size) / float(stride)\n",
        "same_out_s1 = math.ceil(float(in_size) / float(stride))\n",
        "print ('SAME, in: {}, stride: {} ---> out_size: {}'.format(in_size, stride, same_out_s1))"
      ],
      "execution_count": 3,
      "outputs": [
        {
          "output_type": "stream",
          "text": [
            "VALID, in: 4, filter: 2, stride: 1 ---> out_size: 3\n",
            "VALID, in: 4, filter: 3, stride: 1 ---> out_size: 2\n",
            "\n",
            "SAME, in: 4, stride: 1 ---> out_size: 4\n"
          ],
          "name": "stdout"
        }
      ]
    },
    {
      "cell_type": "code",
      "metadata": {
        "id": "RJNbuAJHjFUp",
        "colab_type": "code",
        "colab": {
          "base_uri": "https://localhost:8080/",
          "height": 136
        },
        "outputId": "f714beb6-600f-4a29-c3b3-f952ec62da55"
      },
      "source": [
        "## stride = 1 일 때,\n",
        "stride = 1\n",
        "\n",
        "x = tf.constant([[1, 2, 3, 4]])\n",
        "x = tf.reshape(x, [1, 4, 1, 1])  # give a shape accepted by tf.nn.max_pool\n",
        "\n",
        "# padding option이 VALID 이면, padding 없음\n",
        "with tf.Session() as sess:\n",
        "  valid_pad_k2_s1 = tf.nn.max_pool(x, [1,2,1,1], [1,stride,1,1], padding='VALID', name='valid_pad_k2_s1') ## padding [1, 2, 3, 4] ## output [2, 3, 4]\n",
        "  valid_pad_k3_s1 = tf.nn.max_pool(x, [1,3,1,1], [1,stride,1,1], padding='VALID', name='valid_pad_k3_s1') ## padding [1, 2, 3, 4] ## output [3, 4]\n",
        "\n",
        "  print (sess.run(valid_pad_k2_s1).reshape(valid_out_k2_s1))\n",
        "  print (sess.run(valid_pad_k3_s1).reshape(valid_out_k3_s1), '\\n')\n",
        "\n",
        "## padding option이 SAME 이면, output이 same_out 값 '4' 가 되도록 적절한 padding 추가\n",
        "#### 홀수개 필요 시 오른쪽/아래에 추가 배분\n",
        "#### 짝수개 필요시 양쪽에 배분\n",
        "with tf.Session() as sess:\n",
        "  same_pad_k2_s1 = tf.nn.max_pool(x, [1,2,1,1], [1,stride,1,1], padding='SAME') ## padding [1, 2, 3, 4, 0] ## output [2, 3, 4, 4]\n",
        "  same_pad_k3_s1 = tf.nn.max_pool(x, [1,3,1,1], [1,stride,1,1], padding='SAME') ## padding [0, 1, 2, 3, 4, 0] ## output [2, 3, 4, 4]\n",
        "  same_pad_k4_s1 = tf.nn.max_pool(x, [1,4,1,1], [1,stride,1,1], padding='SAME') ## padding [0, 1, 2, 3, 4, 0, 0] ## output [3, 4, 4, 4]\n",
        "  same_pad_k5_s1 = tf.nn.max_pool(x, [1,5,1,1], [1,stride,1,1], padding='SAME') ## padding [0, 0, 1, 2, 3, 4, 0, 0] ## output [3, 4, 4, 4]\n",
        "\n",
        "  print (sess.run(same_pad_k2_s1).reshape(same_out_s1))\n",
        "  print (sess.run(same_pad_k3_s1).reshape(same_out_s1))\n",
        "  print (sess.run(same_pad_k4_s1).reshape(same_out_s1))\n",
        "  print (sess.run(same_pad_k5_s1).reshape(same_out_s1))"
      ],
      "execution_count": 4,
      "outputs": [
        {
          "output_type": "stream",
          "text": [
            "[2 3 4]\n",
            "[3 4] \n",
            "\n",
            "[2 3 4 4]\n",
            "[2 3 4 4]\n",
            "[3 4 4 4]\n",
            "[3 4 4 4]\n"
          ],
          "name": "stdout"
        }
      ]
    },
    {
      "cell_type": "markdown",
      "metadata": {
        "id": "Lgk5HTThiuFw",
        "colab_type": "text"
      },
      "source": [
        "# stride가 2일 때"
      ]
    },
    {
      "cell_type": "code",
      "metadata": {
        "id": "s36RZO3BfZLV",
        "colab_type": "code",
        "colab": {
          "base_uri": "https://localhost:8080/",
          "height": 85
        },
        "outputId": "d93ff571-8784-4e88-ea25-9c7b658739b7"
      },
      "source": [
        "# input = tf.constant([[1, 2, 3, 4]])\n",
        "in_size = 4\n",
        "stride = 2\n",
        "\n",
        "# VALID: out_size  = ceil(float(in_size - filter_size + 1) / float(stride))\n",
        "valid_out_k2_s2 = math.ceil(float(in_size - 2 + 1 ) / float(stride))\n",
        "valid_out_k3_s2 = math.ceil(float(in_size - 3 + 1 ) / float(stride))\n",
        "print ('VALID, in: {}, filter: 2, stride: {} ---> out_size: {}'.format(in_size, stride, valid_out_k2_s2))\n",
        "print ('VALID, in: {}, filter: 3, stride: {} ---> out_size: {}'.format(in_size, stride, valid_out_k3_s2))\n",
        "print ()\n",
        "# SAME: out_size = ceil(float(in_size) / float(stride)\n",
        "same_out_s2 = math.ceil(float(in_size) / float(stride))\n",
        "print ('SAME, in: {}, stride: {} ---> out_size: {}'.format(in_size, stride, same_out_s2))"
      ],
      "execution_count": 5,
      "outputs": [
        {
          "output_type": "stream",
          "text": [
            "VALID, in: 4, filter: 2, stride: 2 ---> out_size: 2\n",
            "VALID, in: 4, filter: 3, stride: 2 ---> out_size: 1\n",
            "\n",
            "SAME, in: 4, stride: 2 ---> out_size: 2\n"
          ],
          "name": "stdout"
        }
      ]
    },
    {
      "cell_type": "code",
      "metadata": {
        "id": "jVpwkm8aZ3g5",
        "colab_type": "code",
        "outputId": "e579dd03-593f-4316-d93f-d2c7cc1ac3f3",
        "colab": {
          "base_uri": "https://localhost:8080/",
          "height": 153
        }
      },
      "source": [
        "## stride = 2 일 때,\n",
        "stride = 2\n",
        "\n",
        "x = tf.constant([[1, 2, 3, 4]])\n",
        "x = tf.reshape(x, [1, 4, 1, 1])  # give a shape accepted by tf.nn.max_pool\n",
        "\n",
        "# padding option이 VALID 이면, padding 없음\n",
        "with tf.Session() as sess:\n",
        "  valid_pad_k2 = tf.nn.max_pool(x, [1,2,1,1], [1,stride,1,1], padding='VALID') ## padding [1, 2, 3, 4] ## output [2, 4]\n",
        "  valid_pad_k3 = tf.nn.max_pool(x, [1,3,1,1], [1,stride,1,1], padding='VALID') ## padding [1, 2, 3, 4] ## output [3]\n",
        "\n",
        "  print (sess.run(valid_pad_k2).reshape(valid_out_k2_s2))\n",
        "  print (sess.run(valid_pad_k3).reshape(valid_out_k3_s2), '\\n')\n",
        "\n",
        "## padding option이 SAME 이면, output이 same_out 값 '2' 가 되도록 적절한 padding 추가\n",
        "#### 홀수개 필요 시 오른쪽/아래에 추가 배분\n",
        "#### 짝수개 필요시 양쪽에 배분\n",
        "with tf.Session() as sess:\n",
        "  same_pad_k2 = tf.nn.max_pool(x, [1,2,1,1], [1,stride,1,1], padding='SAME') ## padding [1, 2, 3, 4] ## output [2, 4]\n",
        "  same_pad_k3 = tf.nn.max_pool(x, [1,3,1,1], [1,stride,1,1], padding='SAME') ## padding [1, 2, 3, 4, 0] ## output [3, 4]\n",
        "  same_pad_k4 = tf.nn.max_pool(x, [1,4,1,1], [1,stride,1,1], padding='SAME') ## padding [0, 1, 2, 3, 4, 0] ## output [3, 4]\n",
        "  same_pad_k5 = tf.nn.max_pool(x, [1,5,1,1], [1,stride,1,1], padding='SAME') ## padding [0, 1, 2, 3, 4, 0, 0] ## output [4, 4]\n",
        "  same_pad_k6 = tf.nn.max_pool(x, [1,6,1,1], [1,stride,1,1], padding='SAME') ## padding [0, 0, 1, 2, 3, 4, 0, 0] ## output [4, 4]\n",
        "\n",
        "  print (sess.run(same_pad_k2).reshape(same_out_s2))\n",
        "  print (sess.run(same_pad_k3).reshape(same_out_s2))\n",
        "  print (sess.run(same_pad_k4).reshape(same_out_s2))\n",
        "  print (sess.run(same_pad_k5).reshape(same_out_s2))\n",
        "  print (sess.run(same_pad_k6).reshape(same_out_s2))"
      ],
      "execution_count": 6,
      "outputs": [
        {
          "output_type": "stream",
          "text": [
            "[2 4]\n",
            "[3] \n",
            "\n",
            "[2 4]\n",
            "[3 4]\n",
            "[3 4]\n",
            "[4 4]\n",
            "[4 4]\n"
          ],
          "name": "stdout"
        }
      ]
    },
    {
      "cell_type": "code",
      "metadata": {
        "id": "FLlyyrI0gqzL",
        "colab_type": "code",
        "colab": {}
      },
      "source": [
        ""
      ],
      "execution_count": 0,
      "outputs": []
    },
    {
      "cell_type": "code",
      "metadata": {
        "id": "mk7nJ49ksvRF",
        "colab_type": "code",
        "colab": {}
      },
      "source": [
        ""
      ],
      "execution_count": 0,
      "outputs": []
    }
  ]
}