{
  "nbformat": 4,
  "nbformat_minor": 0,
  "metadata": {
    "colab": {
      "name": "gradient in Eager&Graph mode",
      "provenance": [],
      "collapsed_sections": [],
      "authorship_tag": "ABX9TyNsgBhzf3DE3dEQPZl86muy",
      "include_colab_link": true
    },
    "kernelspec": {
      "name": "python3",
      "display_name": "Python 3"
    },
    "accelerator": "GPU"
  },
  "cells": [
    {
      "cell_type": "markdown",
      "metadata": {
        "id": "view-in-github",
        "colab_type": "text"
      },
      "source": [
        "<a href=\"https://colab.research.google.com/github/iskra3138/colab_repo/blob/master/gradient_in_Eager%26Graph_mode.ipynb\" target=\"_parent\"><img src=\"https://colab.research.google.com/assets/colab-badge.svg\" alt=\"Open In Colab\"/></a>"
      ]
    },
    {
      "cell_type": "code",
      "metadata": {
        "id": "9i5yk0d_YJ2B",
        "colab_type": "code",
        "colab": {}
      },
      "source": [
        "%tensorflow_version 2.x"
      ],
      "execution_count": 0,
      "outputs": []
    },
    {
      "cell_type": "code",
      "metadata": {
        "id": "Qwxj5QXhZOmK",
        "colab_type": "code",
        "colab": {}
      },
      "source": [
        "import tensorflow as tf\n",
        "import numpy as np"
      ],
      "execution_count": 0,
      "outputs": []
    },
    {
      "cell_type": "markdown",
      "metadata": {
        "id": "cXeM5gyTjBQL",
        "colab_type": "text"
      },
      "source": [
        "## Tensorflow 2.x Style - Eager"
      ]
    },
    {
      "cell_type": "code",
      "metadata": {
        "id": "pQhAPdSlipXv",
        "colab_type": "code",
        "colab": {}
      },
      "source": [
        "model = tf.keras.applications.ResNet101(weights='imagenet')"
      ],
      "execution_count": 0,
      "outputs": []
    },
    {
      "cell_type": "code",
      "metadata": {
        "id": "wQBGJxd2ZOhp",
        "colab_type": "code",
        "colab": {}
      },
      "source": [
        "input = np.ones(shape=(1,224,224,3), dtype=np.float32)"
      ],
      "execution_count": 0,
      "outputs": []
    },
    {
      "cell_type": "code",
      "metadata": {
        "id": "vjCBuSWvaDTr",
        "colab_type": "code",
        "colab": {}
      },
      "source": [
        "class_idx = np.argmax(model.predict(input))"
      ],
      "execution_count": 0,
      "outputs": []
    },
    {
      "cell_type": "code",
      "metadata": {
        "id": "C2i_BrMHlFUL",
        "colab_type": "code",
        "colab": {}
      },
      "source": [
        "activation_laver = 'conv5_block3_out'"
      ],
      "execution_count": 0,
      "outputs": []
    },
    {
      "cell_type": "code",
      "metadata": {
        "colab_type": "code",
        "id": "4zBw6rv5cWLO",
        "colab": {}
      },
      "source": [
        "## get the derivative of y^c w.r.t A^k\n",
        "y_c = model.layers[-1].output.op.inputs[0][0, class_idx]\n",
        "A_k = model.get_layer(activation_laver).output\n",
        "\n",
        "function = tf.keras.models.Model([model.inputs], [A_k, y_c, model.output])\n",
        "with tf.GradientTape() as tape:\n",
        "  A_k, y_c, predictions = function(input)\n",
        "  grad_val_Eager = tape.gradient(y_c, A_k)[0]\n",
        "\n",
        "conv_output_Eager = A_k[0].numpy()\n",
        "predictions_Eager = predictions[0].numpy()\n",
        "\n",
        "weights_Eager = np.mean(grad_val_Eager, axis=(0, 1))  \n",
        "gradcam_Eager = np.dot(conv_output_Eager, weights_Eager) \n",
        "\n",
        "## Relu\n",
        "gradcam_Eager = np.maximum(gradcam_Eager, 0)"
      ],
      "execution_count": 0,
      "outputs": []
    },
    {
      "cell_type": "code",
      "metadata": {
        "id": "caLaImxjayEr",
        "colab_type": "code",
        "colab": {
          "base_uri": "https://localhost:8080/",
          "height": 263
        },
        "outputId": "29bd5ec3-79b0-45b6-da8a-7fd6f7616688"
      },
      "source": [
        "gradcam_Eager"
      ],
      "execution_count": 8,
      "outputs": [
        {
          "output_type": "execute_result",
          "data": {
            "text/plain": [
              "array([[0.00028162, 0.0007245 , 0.00046242, 0.00021268, 0.00021519,\n",
              "        0.0003005 , 0.00063932],\n",
              "       [0.00066276, 0.00067729, 0.0007408 , 0.00102169, 0.00093498,\n",
              "        0.00044946, 0.00041186],\n",
              "       [0.00056785, 0.00162363, 0.0050569 , 0.00652022, 0.00586844,\n",
              "        0.0030137 , 0.00104003],\n",
              "       [0.00069998, 0.00360565, 0.01008291, 0.01137574, 0.00987676,\n",
              "        0.00523698, 0.00245925],\n",
              "       [0.00082678, 0.00376313, 0.01053694, 0.01221692, 0.01008545,\n",
              "        0.00563704, 0.00339998],\n",
              "       [0.00080959, 0.0023342 , 0.00609587, 0.00825931, 0.00669402,\n",
              "        0.00456461, 0.00227837],\n",
              "       [0.00066882, 0.00133016, 0.00171012, 0.00234924, 0.00237031,\n",
              "        0.00177611, 0.00059871]], dtype=float32)"
            ]
          },
          "metadata": {
            "tags": []
          },
          "execution_count": 8
        }
      ]
    },
    {
      "cell_type": "code",
      "metadata": {
        "id": "XcjKI2MxayAE",
        "colab_type": "code",
        "colab": {
          "base_uri": "https://localhost:8080/",
          "height": 263
        },
        "outputId": "028a815a-8c39-41ab-cfc0-acd1f84cceab"
      },
      "source": [
        "conv_output_Eager[:,:,0]"
      ],
      "execution_count": 9,
      "outputs": [
        {
          "output_type": "execute_result",
          "data": {
            "text/plain": [
              "array([[0.       , 0.       , 0.       , 0.       , 0.       , 0.       ,\n",
              "        0.       ],\n",
              "       [0.       , 0.       , 0.       , 0.       , 0.       , 0.       ,\n",
              "        0.       ],\n",
              "       [0.       , 0.       , 0.       , 0.       , 0.       , 0.       ,\n",
              "        0.       ],\n",
              "       [0.       , 0.       , 0.       , 0.       , 0.       , 0.       ,\n",
              "        0.       ],\n",
              "       [0.       , 0.       , 0.       , 0.9376273, 0.       , 0.       ,\n",
              "        0.       ],\n",
              "       [0.       , 0.       , 0.       , 0.       , 0.       , 0.       ,\n",
              "        0.       ],\n",
              "       [0.       , 0.       , 0.       , 0.       , 0.       , 0.       ,\n",
              "        0.       ]], dtype=float32)"
            ]
          },
          "metadata": {
            "tags": []
          },
          "execution_count": 9
        }
      ]
    },
    {
      "cell_type": "code",
      "metadata": {
        "id": "EMD7WGiCaxxw",
        "colab_type": "code",
        "colab": {
          "base_uri": "https://localhost:8080/",
          "height": 52
        },
        "outputId": "3808f41b-3e15-4475-9af2-dd1d37798b7f"
      },
      "source": [
        "predictions_Eager[class_idx-2:class_idx+3]"
      ],
      "execution_count": 10,
      "outputs": [
        {
          "output_type": "execute_result",
          "data": {
            "text/plain": [
              "array([1.68166967e-04, 3.86879401e-05, 5.93045726e-02, 1.05256186e-04,\n",
              "       1.13464345e-03], dtype=float32)"
            ]
          },
          "metadata": {
            "tags": []
          },
          "execution_count": 10
        }
      ]
    },
    {
      "cell_type": "markdown",
      "metadata": {
        "id": "MaFvfVVHfp02",
        "colab_type": "text"
      },
      "source": [
        "## Tensorflow 1.x Style - Graph"
      ]
    },
    {
      "cell_type": "code",
      "metadata": {
        "id": "aJ366acpc8rP",
        "colab_type": "code",
        "colab": {
          "base_uri": "https://localhost:8080/",
          "height": 90
        },
        "outputId": "df85ac16-495b-4cb1-cf30-3a390da8ea06"
      },
      "source": [
        "tf.compat.v1.disable_eager_execution()\n",
        "model = tf.keras.applications.ResNet101(weights='imagenet')"
      ],
      "execution_count": 11,
      "outputs": [
        {
          "output_type": "stream",
          "text": [
            "WARNING:tensorflow:From /tensorflow-2.1.0/python3.6/tensorflow_core/python/ops/resource_variable_ops.py:1635: calling BaseResourceVariable.__init__ (from tensorflow.python.ops.resource_variable_ops) with constraint is deprecated and will be removed in a future version.\n",
            "Instructions for updating:\n",
            "If using Keras pass *_constraint arguments to layers.\n"
          ],
          "name": "stdout"
        }
      ]
    },
    {
      "cell_type": "code",
      "metadata": {
        "id": "xkYqL2DMZOfj",
        "colab_type": "code",
        "colab": {}
      },
      "source": [
        "## get the derivative of y^c w.r.t A^k\n",
        "y_c = model.layers[-1].output.op.inputs[0][0, class_idx]\n",
        "A_k = model.get_layer(activation_laver).output\n",
        "\n",
        "grad_val_Graph = tf.gradients(y_c, A_k)[0]\n",
        "gradient_fn = tf.keras.backend.function([model.input], [A_k, grad_val_Graph, model.output])\n",
        "\n",
        "conv_output_Graph, grad_val_Graph, predictions_Graph = gradient_fn([input])\n",
        "conv_output_Graph, grad_val_Graph, predictions_Graph = conv_output_Graph[0], grad_val_Graph[0], predictions_Graph[0]\n",
        "\n",
        "weights_Graph = np.mean(grad_val_Graph, axis=(0, 1))\n",
        "gradcam_Graph = np.dot(conv_output_Graph, weights_Graph)\n",
        "\n",
        "## Relu\n",
        "gradcam_Graph = np.maximum(gradcam_Graph, 0)"
      ],
      "execution_count": 0,
      "outputs": []
    },
    {
      "cell_type": "code",
      "metadata": {
        "id": "OAvlc-rcZOd4",
        "colab_type": "code",
        "colab": {
          "base_uri": "https://localhost:8080/",
          "height": 263
        },
        "outputId": "4c8fef08-2db8-41f0-a024-298e87a1975b"
      },
      "source": [
        "gradcam_Graph"
      ],
      "execution_count": 13,
      "outputs": [
        {
          "output_type": "execute_result",
          "data": {
            "text/plain": [
              "array([[0.0058591 , 0.02567193, 0.01936997, 0.0137712 , 0.0128011 ,\n",
              "        0.0129117 , 0.02226914],\n",
              "       [0.02281783, 0.02571142, 0.03634336, 0.0456591 , 0.04175134,\n",
              "        0.02390287, 0.02082711],\n",
              "       [0.02060051, 0.06106661, 0.16102049, 0.20707057, 0.18705162,\n",
              "        0.10284157, 0.03869095],\n",
              "       [0.03114092, 0.1264236 , 0.294668  , 0.3358269 , 0.2971611 ,\n",
              "        0.17591155, 0.0738475 ],\n",
              "       [0.03364016, 0.1308052 , 0.30485022, 0.35737312, 0.30658722,\n",
              "        0.1922845 , 0.10127223],\n",
              "       [0.02695532, 0.08306788, 0.19243468, 0.2523846 , 0.21743369,\n",
              "        0.14924252, 0.07038921],\n",
              "       [0.02708533, 0.04796556, 0.06668366, 0.0885573 , 0.08739071,\n",
              "        0.06345784, 0.03115967]], dtype=float32)"
            ]
          },
          "metadata": {
            "tags": []
          },
          "execution_count": 13
        }
      ]
    },
    {
      "cell_type": "code",
      "metadata": {
        "id": "BagKpOMtZOZB",
        "colab_type": "code",
        "colab": {
          "base_uri": "https://localhost:8080/",
          "height": 263
        },
        "outputId": "7a986ec4-5498-4a0e-a148-fbfee76b62d1"
      },
      "source": [
        "conv_output_Graph[:,:,0]"
      ],
      "execution_count": 14,
      "outputs": [
        {
          "output_type": "execute_result",
          "data": {
            "text/plain": [
              "array([[0.       , 0.       , 0.       , 0.       , 0.       , 0.       ,\n",
              "        0.       ],\n",
              "       [0.       , 0.       , 0.       , 0.       , 0.       , 0.       ,\n",
              "        0.       ],\n",
              "       [0.       , 0.       , 0.       , 0.       , 0.       , 0.       ,\n",
              "        0.       ],\n",
              "       [0.       , 0.       , 0.       , 0.       , 0.       , 0.       ,\n",
              "        0.       ],\n",
              "       [0.       , 0.       , 0.       , 0.9376209, 0.       , 0.       ,\n",
              "        0.       ],\n",
              "       [0.       , 0.       , 0.       , 0.       , 0.       , 0.       ,\n",
              "        0.       ],\n",
              "       [0.       , 0.       , 0.       , 0.       , 0.       , 0.       ,\n",
              "        0.       ]], dtype=float32)"
            ]
          },
          "metadata": {
            "tags": []
          },
          "execution_count": 14
        }
      ]
    },
    {
      "cell_type": "code",
      "metadata": {
        "id": "acn6rWvhZOVO",
        "colab_type": "code",
        "colab": {
          "base_uri": "https://localhost:8080/",
          "height": 52
        },
        "outputId": "357c6b3b-8fd8-4307-a602-a5c80642f5c3"
      },
      "source": [
        "predictions_Graph[class_idx-2:class_idx+3]"
      ],
      "execution_count": 15,
      "outputs": [
        {
          "output_type": "execute_result",
          "data": {
            "text/plain": [
              "array([1.6816732e-04, 3.8687980e-05, 5.9304491e-02, 1.0525640e-04,\n",
              "       1.1346451e-03], dtype=float32)"
            ]
          },
          "metadata": {
            "tags": []
          },
          "execution_count": 15
        }
      ]
    },
    {
      "cell_type": "markdown",
      "metadata": {
        "id": "W2VDpxsEhqB_",
        "colab_type": "text"
      },
      "source": [
        "# TF2.0 Style(Eager mode) &  TF1.0 Style(Graph mode) "
      ]
    },
    {
      "cell_type": "markdown",
      "metadata": {
        "id": "YPw81uH_h8JS",
        "colab_type": "text"
      },
      "source": [
        "### GRADCAM"
      ]
    },
    {
      "cell_type": "code",
      "metadata": {
        "id": "tZG3XiSEd1nU",
        "colab_type": "code",
        "colab": {
          "base_uri": "https://localhost:8080/",
          "height": 263
        },
        "outputId": "d90168b3-b4ef-458a-e004-0cbc6487c322"
      },
      "source": [
        "gradcam_Graph - gradcam_Eager"
      ],
      "execution_count": 16,
      "outputs": [
        {
          "output_type": "execute_result",
          "data": {
            "text/plain": [
              "array([[0.00557748, 0.02494742, 0.01890755, 0.01355851, 0.01258591,\n",
              "        0.0126112 , 0.02162982],\n",
              "       [0.02215507, 0.02503413, 0.03560256, 0.04463741, 0.04081637,\n",
              "        0.02345341, 0.02041526],\n",
              "       [0.02003266, 0.05944298, 0.15596358, 0.20055035, 0.18118319,\n",
              "        0.09982788, 0.03765092],\n",
              "       [0.03044094, 0.12281795, 0.2845851 , 0.32445115, 0.28728434,\n",
              "        0.17067456, 0.07138826],\n",
              "       [0.03281339, 0.12704206, 0.29431328, 0.3451562 , 0.29650176,\n",
              "        0.18664746, 0.09787225],\n",
              "       [0.02614573, 0.08073368, 0.18633881, 0.24412529, 0.21073967,\n",
              "        0.1446779 , 0.06811085],\n",
              "       [0.02641651, 0.0466354 , 0.06497354, 0.08620807, 0.08502039,\n",
              "        0.06168173, 0.03056096]], dtype=float32)"
            ]
          },
          "metadata": {
            "tags": []
          },
          "execution_count": 16
        }
      ]
    },
    {
      "cell_type": "code",
      "metadata": {
        "id": "ifMI5Dyuh_l0",
        "colab_type": "code",
        "colab": {
          "base_uri": "https://localhost:8080/",
          "height": 34
        },
        "outputId": "ebfc5f94-7358-474b-c50f-f5f1f8cccfac"
      },
      "source": [
        "np.max(gradcam_Graph - gradcam_Eager)"
      ],
      "execution_count": 17,
      "outputs": [
        {
          "output_type": "execute_result",
          "data": {
            "text/plain": [
              "0.3451562"
            ]
          },
          "metadata": {
            "tags": []
          },
          "execution_count": 17
        }
      ]
    },
    {
      "cell_type": "markdown",
      "metadata": {
        "id": "gdUhq46GiEZW",
        "colab_type": "text"
      },
      "source": [
        "### A_k output"
      ]
    },
    {
      "cell_type": "code",
      "metadata": {
        "id": "4gc22k7KmXiU",
        "colab_type": "code",
        "colab": {
          "base_uri": "https://localhost:8080/",
          "height": 386
        },
        "outputId": "76f806d6-065a-4144-8251-ca6efe2493c3"
      },
      "source": [
        "(conv_output_Graph - conv_output_Eager)[:,:,450]"
      ],
      "execution_count": 29,
      "outputs": [
        {
          "output_type": "execute_result",
          "data": {
            "text/plain": [
              "array([[ 0.00000000e+00,  0.00000000e+00,  0.00000000e+00,\n",
              "         0.00000000e+00,  0.00000000e+00,  0.00000000e+00,\n",
              "         0.00000000e+00],\n",
              "       [ 0.00000000e+00,  0.00000000e+00,  0.00000000e+00,\n",
              "         0.00000000e+00,  0.00000000e+00,  0.00000000e+00,\n",
              "         0.00000000e+00],\n",
              "       [ 0.00000000e+00,  0.00000000e+00, -4.05311584e-06,\n",
              "        -9.53674316e-06, -9.29832458e-06, -8.64267349e-06,\n",
              "         0.00000000e+00],\n",
              "       [ 0.00000000e+00, -3.33786011e-06, -7.62939453e-06,\n",
              "        -1.04904175e-05, -1.90734863e-05, -1.52587891e-05,\n",
              "         0.00000000e+00],\n",
              "       [ 0.00000000e+00, -3.33786011e-06, -1.28746033e-05,\n",
              "        -1.81198120e-05, -2.43186951e-05, -1.09672546e-05,\n",
              "        -1.60932541e-06],\n",
              "       [ 0.00000000e+00, -6.85453415e-07, -1.66893005e-06,\n",
              "        -1.90734863e-05, -1.95503235e-05, -4.41074371e-06,\n",
              "         0.00000000e+00],\n",
              "       [ 0.00000000e+00,  0.00000000e+00,  0.00000000e+00,\n",
              "        -3.09944153e-06, -2.38418579e-06,  0.00000000e+00,\n",
              "         0.00000000e+00]], dtype=float32)"
            ]
          },
          "metadata": {
            "tags": []
          },
          "execution_count": 29
        }
      ]
    },
    {
      "cell_type": "code",
      "metadata": {
        "id": "zhcLlavegyqX",
        "colab_type": "code",
        "colab": {
          "base_uri": "https://localhost:8080/",
          "height": 34
        },
        "outputId": "bccd6d50-9d6e-4f43-90a8-3f755de8b825"
      },
      "source": [
        "np.max((conv_output_Graph - conv_output_Eager))"
      ],
      "execution_count": 18,
      "outputs": [
        {
          "output_type": "execute_result",
          "data": {
            "text/plain": [
              "3.0040741e-05"
            ]
          },
          "metadata": {
            "tags": []
          },
          "execution_count": 18
        }
      ]
    },
    {
      "cell_type": "markdown",
      "metadata": {
        "id": "1ugwKF6qiJ5S",
        "colab_type": "text"
      },
      "source": [
        "### Predictions"
      ]
    },
    {
      "cell_type": "code",
      "metadata": {
        "id": "E33z8oo_hZQN",
        "colab_type": "code",
        "colab": {
          "base_uri": "https://localhost:8080/",
          "height": 52
        },
        "outputId": "b18376ad-ac1c-4f10-907d-bae281619480"
      },
      "source": [
        "(predictions_Graph - predictions_Eager)[class_idx-2:class_idx+3]"
      ],
      "execution_count": 19,
      "outputs": [
        {
          "output_type": "execute_result",
          "data": {
            "text/plain": [
              "array([ 3.4924597e-10,  4.0017767e-11, -8.1956387e-08,  2.1100277e-10,\n",
              "        1.6298145e-09], dtype=float32)"
            ]
          },
          "metadata": {
            "tags": []
          },
          "execution_count": 19
        }
      ]
    },
    {
      "cell_type": "code",
      "metadata": {
        "id": "IgJ6-igSg11o",
        "colab_type": "code",
        "colab": {
          "base_uri": "https://localhost:8080/",
          "height": 34
        },
        "outputId": "4f07ac6e-a408-43a4-ed06-320a8c227626"
      },
      "source": [
        "np.max(predictions_Graph - predictions_Eager)"
      ],
      "execution_count": 20,
      "outputs": [
        {
          "output_type": "execute_result",
          "data": {
            "text/plain": [
              "2.0489097e-08"
            ]
          },
          "metadata": {
            "tags": []
          },
          "execution_count": 20
        }
      ]
    }
  ]
}