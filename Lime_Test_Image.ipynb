{
  "nbformat": 4,
  "nbformat_minor": 0,
  "metadata": {
    "colab": {
      "name": "Lime_Test_Image.ipynb",
      "provenance": [],
      "collapsed_sections": [],
      "include_colab_link": true
    },
    "kernelspec": {
      "name": "python2",
      "display_name": "Python 2"
    },
    "accelerator": "GPU"
  },
  "cells": [
    {
      "cell_type": "markdown",
      "metadata": {
        "id": "view-in-github",
        "colab_type": "text"
      },
      "source": [
        "<a href=\"https://colab.research.google.com/github/iskra3138/git_tutorial/blob/master/Lime_Test_Image.ipynb\" target=\"_parent\"><img src=\"https://colab.research.google.com/assets/colab-badge.svg\" alt=\"Open In Colab\"/></a>"
      ]
    },
    {
      "cell_type": "code",
      "metadata": {
        "id": "3T-bvrbN7_Zp",
        "colab_type": "code",
        "colab": {}
      },
      "source": [
        "ls"
      ],
      "execution_count": 0,
      "outputs": []
    },
    {
      "cell_type": "code",
      "metadata": {
        "id": "v7t3oFfo81nQ",
        "colab_type": "code",
        "colab": {}
      },
      "source": [
        "!pip install lime"
      ],
      "execution_count": 0,
      "outputs": []
    },
    {
      "cell_type": "code",
      "metadata": {
        "id": "RogWYeW3L1lv",
        "colab_type": "code",
        "colab": {}
      },
      "source": [
        "!git clone https://github.com/marcotcr/tf-models.git"
      ],
      "execution_count": 0,
      "outputs": []
    },
    {
      "cell_type": "code",
      "metadata": {
        "id": "nKVr_8LJL5Kr",
        "colab_type": "code",
        "colab": {}
      },
      "source": [
        "!wget http://download.tensorflow.org/models/inception_v3_2016_08_28.tar.gz"
      ],
      "execution_count": 0,
      "outputs": []
    },
    {
      "cell_type": "code",
      "metadata": {
        "id": "PC4U7Fy2MRgl",
        "colab_type": "code",
        "colab": {}
      },
      "source": [
        "!tar -xvf inception_v3_2016_08_28.tar.gz"
      ],
      "execution_count": 0,
      "outputs": []
    },
    {
      "cell_type": "code",
      "metadata": {
        "id": "n0sYv5E6MVSL",
        "colab_type": "code",
        "colab": {}
      },
      "source": [
        "!wget https://www.researchgate.net/profile/Amin_Karbasi/publication/318460835/figure/fig2/AS:530639130955776@1503525635077/Original-image-and-visualization-of-the-superpixels-selected-by-the-three-algorithms-to.png"
      ],
      "execution_count": 0,
      "outputs": []
    },
    {
      "cell_type": "code",
      "metadata": {
        "id": "UYbVPHUvi9ai",
        "colab_type": "code",
        "colab": {}
      },
      "source": [
        "ls"
      ],
      "execution_count": 0,
      "outputs": []
    },
    {
      "cell_type": "code",
      "metadata": {
        "id": "mqWwdB3TMWU_",
        "colab_type": "code",
        "colab": {}
      },
      "source": [
        "!rm inception_v3_2016_08_28.tar.gz"
      ],
      "execution_count": 0,
      "outputs": []
    },
    {
      "cell_type": "code",
      "metadata": {
        "id": "dwbVQ0IC8ele",
        "colab_type": "code",
        "colab": {}
      },
      "source": [
        ""
      ],
      "execution_count": 0,
      "outputs": []
    },
    {
      "cell_type": "code",
      "metadata": {
        "id": "Ca8o1N80MZZk",
        "colab_type": "code",
        "colab": {}
      },
      "source": [
        "import tensorflow as tf\n",
        "slim = tf.contrib.slim\n",
        "import sys\n",
        "sys.path.append('./tf-models/slim')\n",
        "%load_ext autoreload\n",
        "%autoreload 2\n",
        "import matplotlib.pyplot as plt\n",
        "%matplotlib inline\n",
        "import numpy as np"
      ],
      "execution_count": 0,
      "outputs": []
    },
    {
      "cell_type": "markdown",
      "metadata": {
        "id": "KJ-VjQuO8gE9",
        "colab_type": "text"
      },
      "source": [
        "Create a predict fn for inception v3, takes in a list of images and returns a matrix of prediction probabilities"
      ]
    },
    {
      "cell_type": "code",
      "metadata": {
        "id": "rYFnTcK8McVo",
        "colab_type": "code",
        "colab": {}
      },
      "source": [
        "from nets import inception\n",
        "from preprocessing import inception_preprocessing"
      ],
      "execution_count": 0,
      "outputs": []
    },
    {
      "cell_type": "code",
      "metadata": {
        "id": "79Em0_sMMghx",
        "colab_type": "code",
        "colab": {}
      },
      "source": [
        "session = tf.Session()"
      ],
      "execution_count": 0,
      "outputs": []
    },
    {
      "cell_type": "code",
      "metadata": {
        "id": "3SjdjwHSMiPw",
        "colab_type": "code",
        "colab": {}
      },
      "source": [
        "image_size = inception.inception_v3.default_image_size\n",
        "def transform_img_fn(path_list):\n",
        "    out = []\n",
        "    for f in path_list:\n",
        "        image_raw = tf.image.decode_jpeg(open(f).read(), channels=3)\n",
        "        image = inception_preprocessing.preprocess_image(image_raw, image_size, image_size, is_training=False)\n",
        "        out.append(image)\n",
        "    return session.run([out])[0]"
      ],
      "execution_count": 0,
      "outputs": []
    },
    {
      "cell_type": "code",
      "metadata": {
        "id": "bjY2XI-EMj10",
        "colab_type": "code",
        "colab": {}
      },
      "source": [
        "from datasets import imagenet\n",
        "names = imagenet.create_readable_names_for_imagenet_labels()"
      ],
      "execution_count": 0,
      "outputs": []
    },
    {
      "cell_type": "code",
      "metadata": {
        "id": "YkpnhG25MmBV",
        "colab_type": "code",
        "colab": {}
      },
      "source": [
        "processed_images = tf.placeholder(tf.float32, shape=(None, 299, 299, 3))"
      ],
      "execution_count": 0,
      "outputs": []
    },
    {
      "cell_type": "code",
      "metadata": {
        "id": "vS94ye_PMn0z",
        "colab_type": "code",
        "colab": {}
      },
      "source": [
        "import os\n",
        "with slim.arg_scope(inception.inception_v3_arg_scope()):\n",
        "    logits, _ = inception.inception_v3(processed_images, num_classes=1001, is_training=False)\n",
        "probabilities = tf.nn.softmax(logits)\n",
        "\n",
        "checkpoints_dir = './'\n",
        "init_fn = slim.assign_from_checkpoint_fn(\n",
        "    os.path.join(checkpoints_dir, 'inception_v3.ckpt'),\n",
        "    slim.get_model_variables('InceptionV3'))\n",
        "init_fn(session)"
      ],
      "execution_count": 0,
      "outputs": []
    },
    {
      "cell_type": "code",
      "metadata": {
        "id": "E3ubecjJMpYY",
        "colab_type": "code",
        "colab": {}
      },
      "source": [
        "def predict_fn(images):\n",
        "    return session.run(probabilities, feed_dict={processed_images: images})"
      ],
      "execution_count": 0,
      "outputs": []
    },
    {
      "cell_type": "code",
      "metadata": {
        "id": "rxldLkGCM0Ll",
        "colab_type": "code",
        "colab": {}
      },
      "source": [
        "'''from google.colab import files\n",
        "\n",
        "uploaded = files.upload()'''"
      ],
      "execution_count": 0,
      "outputs": []
    },
    {
      "cell_type": "code",
      "metadata": {
        "id": "GyC300mcM5Sk",
        "colab_type": "code",
        "colab": {}
      },
      "source": [
        "\n",
        "#images = transform_img_fn(['./dogs.png'])\n",
        "images = transform_img_fn(['./Original-image-and-visualization-of-the-superpixels-selected-by-the-three-algorithms-to.png'])\n",
        "# I'm dividing by 2 and adding 0.5 because of how this Inception represents images\n",
        "plt.imshow(images[0] / 2 + 0.5)\n",
        "preds = predict_fn(images)\n",
        "for x in preds.argsort()[0][-5:]:\n",
        "    print (x, names[x], preds[0,x])"
      ],
      "execution_count": 0,
      "outputs": []
    },
    {
      "cell_type": "code",
      "metadata": {
        "id": "gBbMtnZJM-mw",
        "colab_type": "code",
        "colab": {}
      },
      "source": [
        "image = images[0]"
      ],
      "execution_count": 0,
      "outputs": []
    },
    {
      "cell_type": "code",
      "metadata": {
        "id": "l8LhADYtND7P",
        "colab_type": "code",
        "colab": {}
      },
      "source": [
        "## Now let's get an explanation"
      ],
      "execution_count": 0,
      "outputs": []
    },
    {
      "cell_type": "code",
      "metadata": {
        "id": "KXs0-jKdNGFF",
        "colab_type": "code",
        "colab": {}
      },
      "source": [
        "from lime import lime_image\n",
        "import time"
      ],
      "execution_count": 0,
      "outputs": []
    },
    {
      "cell_type": "code",
      "metadata": {
        "id": "BZCREw1uNHan",
        "colab_type": "code",
        "colab": {}
      },
      "source": [
        "explainer = lime_image.LimeImageExplainer()"
      ],
      "execution_count": 0,
      "outputs": []
    },
    {
      "cell_type": "code",
      "metadata": {
        "id": "6EZQ33leNwIj",
        "colab_type": "code",
        "colab": {}
      },
      "source": [
        "tmp = time.time()\n",
        "# Hide color is the color for a superpixel turned OFF. Alternatively, if it is NONE, the superpixel will be replaced by the average of its pixels\n",
        "explanation = explainer.explain_instance(image, predict_fn, top_labels=5, hide_color=0, num_samples=1000)\n",
        "print time.time() - tmp"
      ],
      "execution_count": 0,
      "outputs": []
    },
    {
      "cell_type": "markdown",
      "metadata": {
        "id": "8813dm0V9l4p",
        "colab_type": "text"
      },
      "source": [
        "Now let's see the explanation for the top class (Bernese mountain dog)\n",
        "\n",
        "We can see the top 5 superpixels that are most positive towards the class with the rest of the image hidden"
      ]
    },
    {
      "cell_type": "code",
      "metadata": {
        "id": "Aae-LWs9N0pT",
        "colab_type": "code",
        "colab": {}
      },
      "source": [
        "from skimage.segmentation import mark_boundaries"
      ],
      "execution_count": 0,
      "outputs": []
    },
    {
      "cell_type": "code",
      "metadata": {
        "id": "bG5Cf-KYN5qw",
        "colab_type": "code",
        "colab": {}
      },
      "source": [
        "temp, mask = explanation.get_image_and_mask(240, positive_only=True, num_features=1, hide_rest=True)\n",
        "plt.imshow(mark_boundaries(temp / 2 + 0.5, mask))"
      ],
      "execution_count": 0,
      "outputs": []
    },
    {
      "cell_type": "code",
      "metadata": {
        "id": "78nz92pc_whn",
        "colab_type": "code",
        "colab": {}
      },
      "source": [
        "temp, mask = explanation.get_image_and_mask(240, positive_only=True, num_features=2, hide_rest=True)\n",
        "plt.imshow(mark_boundaries(temp / 2 + 0.5, mask))"
      ],
      "execution_count": 0,
      "outputs": []
    },
    {
      "cell_type": "code",
      "metadata": {
        "id": "yQ8n6pXL_0UN",
        "colab_type": "code",
        "colab": {}
      },
      "source": [
        "temp, mask = explanation.get_image_and_mask(240, positive_only=True, num_features=3, hide_rest=True)\n",
        "plt.imshow(mark_boundaries(temp / 2 + 0.5, mask))"
      ],
      "execution_count": 0,
      "outputs": []
    },
    {
      "cell_type": "code",
      "metadata": {
        "id": "K6AvHehq_0RQ",
        "colab_type": "code",
        "colab": {}
      },
      "source": [
        "temp, mask = explanation.get_image_and_mask(240, positive_only=True, num_features=4, hide_rest=True)\n",
        "plt.imshow(mark_boundaries(temp / 2 + 0.5, mask))"
      ],
      "execution_count": 0,
      "outputs": []
    },
    {
      "cell_type": "code",
      "metadata": {
        "id": "6ZP7jfA__0OS",
        "colab_type": "code",
        "colab": {}
      },
      "source": [
        "temp, mask = explanation.get_image_and_mask(240, positive_only=True, num_features=10, hide_rest=True)\n",
        "plt.imshow(mark_boundaries(temp / 2 + 0.5, mask))"
      ],
      "execution_count": 0,
      "outputs": []
    },
    {
      "cell_type": "code",
      "metadata": {
        "id": "wphpXBuF_0Lr",
        "colab_type": "code",
        "colab": {}
      },
      "source": [
        "temp, mask = explanation.get_image_and_mask(240, positive_only=True, num_features=11, hide_rest=True)\n",
        "plt.imshow(mark_boundaries(temp / 2 + 0.5, mask))"
      ],
      "execution_count": 0,
      "outputs": []
    },
    {
      "cell_type": "code",
      "metadata": {
        "id": "BHvJG07o_0I0",
        "colab_type": "code",
        "colab": {}
      },
      "source": [
        "temp, mask = explanation.get_image_and_mask(240, positive_only=True, num_features=7, hide_rest=True)\n",
        "plt.imshow(mark_boundaries(temp / 2 + 0.5, mask))"
      ],
      "execution_count": 0,
      "outputs": []
    },
    {
      "cell_type": "code",
      "metadata": {
        "id": "6YrDz13U_8f0",
        "colab_type": "code",
        "colab": {}
      },
      "source": [
        "temp, mask = explanation.get_image_and_mask(240, positive_only=False, num_features=10000, hide_rest=False)\n",
        "plt.imshow(mark_boundaries(temp / 2 + 0.5, mask))"
      ],
      "execution_count": 0,
      "outputs": []
    },
    {
      "cell_type": "code",
      "metadata": {
        "id": "Rjl2sIpH_8c4",
        "colab_type": "code",
        "colab": {}
      },
      "source": [
        "temp, mask = explanation.get_image_and_mask(240, positive_only=False, num_features=100, hide_rest=False)\n",
        "plt.imshow(mark_boundaries(temp / 2 + 0.5, mask))"
      ],
      "execution_count": 0,
      "outputs": []
    },
    {
      "cell_type": "code",
      "metadata": {
        "id": "7BjkcIY9N8S6",
        "colab_type": "code",
        "colab": {}
      },
      "source": [
        "temp, mask = explanation.get_image_and_mask(240, positive_only=True, num_features=5, hide_rest=False)\n",
        "plt.imshow(mark_boundaries(temp / 2 + 0.5, mask))"
      ],
      "execution_count": 0,
      "outputs": []
    },
    {
      "cell_type": "code",
      "metadata": {
        "id": "XpV8x4SzN-Of",
        "colab_type": "code",
        "colab": {}
      },
      "source": [
        "temp, mask = explanation.get_image_and_mask(240, positive_only=False, num_features=10, hide_rest=False)\n",
        "plt.imshow(mark_boundaries(temp / 2 + 0.5, mask))"
      ],
      "execution_count": 0,
      "outputs": []
    },
    {
      "cell_type": "code",
      "metadata": {
        "id": "hxk1TWRsOCb_",
        "colab_type": "code",
        "colab": {}
      },
      "source": [
        "temp, mask = explanation.get_image_and_mask(240, positive_only=False, num_features=1000, hide_rest=False, min_weight=0.1)\n",
        "plt.imshow(mark_boundaries(temp / 2 + 0.5, mask))"
      ],
      "execution_count": 0,
      "outputs": []
    },
    {
      "cell_type": "code",
      "metadata": {
        "id": "BN92wgVS99af",
        "colab_type": "code",
        "colab": {}
      },
      "source": [
        "temp, mask = explanation.get_image_and_mask(240, positive_only=False, num_features=1000, hide_rest=False, min_weight=0.1)\n",
        "plt.imshow(mark_boundaries(temp / 2 + 0.5, mask))"
      ],
      "execution_count": 0,
      "outputs": []
    },
    {
      "cell_type": "markdown",
      "metadata": {
        "id": "lsXg3PRP-FyI",
        "colab_type": "text"
      },
      "source": [
        "Let's see the explanation for Egyptian cat\n",
        "\n",
        "Most positive towards egyptian cat:"
      ]
    },
    {
      "cell_type": "code",
      "metadata": {
        "id": "NYA35QT49_c2",
        "colab_type": "code",
        "colab": {}
      },
      "source": [
        "temp, mask = explanation.get_image_and_mask(223, positive_only=True, num_features=5, hide_rest=True)\n",
        "plt.imshow(mark_boundaries(temp / 2 + 0.5, mask))"
      ],
      "execution_count": 0,
      "outputs": []
    },
    {
      "cell_type": "markdown",
      "metadata": {
        "id": "VD8BNpAw-O0D",
        "colab_type": "text"
      },
      "source": [
        "Pros and cons:"
      ]
    },
    {
      "cell_type": "code",
      "metadata": {
        "id": "EnIVzYjC-KoO",
        "colab_type": "code",
        "colab": {}
      },
      "source": [
        "temp, mask = explanation.get_image_and_mask(223, positive_only=False, num_features=10, hide_rest=False)\n",
        "plt.imshow(mark_boundaries(temp / 2 + 0.5, mask))"
      ],
      "execution_count": 0,
      "outputs": []
    },
    {
      "cell_type": "code",
      "metadata": {
        "id": "NeSiVF_2-M8p",
        "colab_type": "code",
        "colab": {}
      },
      "source": [
        ""
      ],
      "execution_count": 0,
      "outputs": []
    }
  ]
}